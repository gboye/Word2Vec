{
 "cells": [
  {
   "cell_type": "markdown",
   "id": "b4d050ac",
   "metadata": {},
   "source": [
    "# Nettoyages\n",
    "On veut éliminer la ponctuation et les non-mots, transformer les majuscules en minuscules et découper le texte résultant en tokens.  \n",
    "Optionnellement, on peut vouloir supprimer les stopwords."
   ]
  },
  {
   "cell_type": "code",
   "execution_count": 32,
   "id": "83accc20",
   "metadata": {},
   "outputs": [
    {
     "name": "stderr",
     "output_type": "stream",
     "text": [
      "[nltk_data] Downloading package punkt to /Users/gilles/nltk_data...\n",
      "[nltk_data]   Package punkt is already up-to-date!\n",
      "[nltk_data] Downloading package stopwords to\n",
      "[nltk_data]     /Users/gilles/nltk_data...\n",
      "[nltk_data]   Package stopwords is already up-to-date!\n"
     ]
    },
    {
     "data": {
      "text/plain": [
       "True"
      ]
     },
     "execution_count": 32,
     "metadata": {},
     "output_type": "execute_result"
    }
   ],
   "source": [
    "import re,sys,nltk\n",
    "import pandas as pd\n",
    "\n",
    "nltk.download('punkt')\n",
    "nltk.download('stopwords')"
   ]
  },
  {
   "cell_type": "code",
   "execution_count": 88,
   "id": "3cbc77d9",
   "metadata": {},
   "outputs": [],
   "source": [
    "chaineBrute=u\"<balise attribut='valeur'>Alors</balise>, comment tu vas à la gare ? <br/> Avec l'itinéraire bis ? À la gare, j'y vais pas !\""
   ]
  },
  {
   "cell_type": "markdown",
   "id": "e42f1a85",
   "metadata": {},
   "source": [
    "## Éliminer les balises\n",
    "Une balise commence par un chevron inférieur **<** et continue avec des caractères qui ne sont pas des chevrons supérieurs **>**, c'est à dire **[^>]\\***, et elle se termine par un chevron supérieur **>** :\n",
    "- <[^>]\\*>\n",
    "On enlève les balises de **chaineBrute** avec : **re.sub(u\"<[^>]\\*>\",\"\",chaineBrute)**"
   ]
  },
  {
   "cell_type": "code",
   "execution_count": 89,
   "id": "89bd4c0b",
   "metadata": {},
   "outputs": [],
   "source": [
    "chaine=re.sub(u\"<[^>]*>\",\"\",chaineBrute)"
   ]
  },
  {
   "cell_type": "markdown",
   "id": "00592589",
   "metadata": {},
   "source": [
    "## Ne conserver que les mots\n",
    "### Expressions régulières : Python2 vs Python3\n",
    "Pour pouvoir utiliser l'expression régulière qui sélectionne les non-lettres **\\W** ou les chiffres **\\d** : **(\\W|\\d)+**, la syntaxe est différente entre Python2 et Python3.\n",
    "\n",
    "- avec py3, il suffit d'activer l'option re.U\n",
    "- avec py2, il faut compiler l'expression régulière avec l'option U (UNICODE) avant de l'utiliser (cette méthode marche aussi avec py3)"
   ]
  },
  {
   "cell_type": "code",
   "execution_count": 96,
   "id": "dd9f9981",
   "metadata": {},
   "outputs": [],
   "source": [
    "# Pour python3, il n'y a pas besoin de précompiler l'expression régulière\n",
    "# Mais pour python2, ça ne marche pas sans la précompilation...\n",
    "if sys.version_info.major>2:\n",
    "    filteredChaine=re.sub(u\"(\\W|\\d)+\",\" \",chaine,re.U).lower()"
   ]
  },
  {
   "cell_type": "code",
   "execution_count": null,
   "id": "def8c648",
   "metadata": {},
   "outputs": [],
   "source": [
    "p=re.compile(u\"(\\W|\\d)+\",re.U)\n",
    "filteredChaine=p.sub(\" \",chaine)"
   ]
  },
  {
   "cell_type": "markdown",
   "id": "5dfa4427",
   "metadata": {},
   "source": [
    "### Mettre tout le texte en minuscules"
   ]
  },
  {
   "cell_type": "code",
   "execution_count": 90,
   "id": "ae132a28",
   "metadata": {},
   "outputs": [],
   "source": [
    "filteredChaine=filteredChaine.lower()"
   ]
  },
  {
   "cell_type": "markdown",
   "id": "4824c627",
   "metadata": {},
   "source": [
    "## Utiliser NLTK pour le nettoyage\n",
    "### découper en tokens"
   ]
  },
  {
   "cell_type": "code",
   "execution_count": 92,
   "id": "b7702a48",
   "metadata": {},
   "outputs": [],
   "source": [
    "from nltk.tokenize import word_tokenize\n",
    "tokens=word_tokenize(filteredChaine)"
   ]
  },
  {
   "cell_type": "markdown",
   "id": "f79c1a4d",
   "metadata": {},
   "source": [
    "### Enlever les stopwords"
   ]
  },
  {
   "cell_type": "code",
   "execution_count": 93,
   "id": "e6bfa5ee",
   "metadata": {},
   "outputs": [],
   "source": [
    "from nltk.corpus import stopwords\n",
    "stops = set(stopwords.words('french'))"
   ]
  },
  {
   "cell_type": "code",
   "execution_count": 94,
   "id": "58d36ade",
   "metadata": {},
   "outputs": [
    {
     "data": {
      "text/plain": [
       "['alors', 'comment', 'vas', 'gare', 'itinéraire', 'bis', 'gare', 'vais']"
      ]
     },
     "execution_count": 94,
     "metadata": {},
     "output_type": "execute_result"
    }
   ],
   "source": [
    "filteredTokens=[w for w in tokens if w not in stops]\n",
    "filteredTokens"
   ]
  },
  {
   "cell_type": "code",
   "execution_count": null,
   "id": "5115c367",
   "metadata": {},
   "outputs": [],
   "source": []
  }
 ],
 "metadata": {
  "kernelspec": {
   "display_name": "Python 3 (ipykernel)",
   "language": "python",
   "name": "python3"
  },
  "language_info": {
   "codemirror_mode": {
    "name": "ipython",
    "version": 3
   },
   "file_extension": ".py",
   "mimetype": "text/x-python",
   "name": "python",
   "nbconvert_exporter": "python",
   "pygments_lexer": "ipython3",
   "version": "3.9.7"
  }
 },
 "nbformat": 4,
 "nbformat_minor": 5
}
