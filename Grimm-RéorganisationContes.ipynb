{
 "cells": [
  {
   "cell_type": "markdown",
   "id": "fc9ac484",
   "metadata": {},
   "source": [
    "# Réorganisation\n",
    "On veut remettre les contes dans l'ordre et noter quelles lignes appartiennent à quel conte."
   ]
  },
  {
   "cell_type": "code",
   "execution_count": 20,
   "id": "3d4f4932",
   "metadata": {},
   "outputs": [],
   "source": [
    "import re,sys,codecs\n",
    "from collections import OrderedDict\n",
    "repName=\"/Users/gilles/ownCloud/Cours/Bordeaux/M2-TraitementsCorpus/\"\n",
    "fName=\"CorpusAveugle-Sentenced.txt\"\n",
    "fName=\"Cleaned.txt\""
   ]
  },
  {
   "cell_type": "code",
   "execution_count": 21,
   "id": "99122d10",
   "metadata": {},
   "outputs": [],
   "source": [
    "with codecs.open(repName+fName,\"r\",encoding=\"utf8\") as inFile:\n",
    "    lines=inFile.readlines()"
   ]
  },
  {
   "cell_type": "code",
   "execution_count": 22,
   "id": "b0b3f797",
   "metadata": {},
   "outputs": [],
   "source": [
    "conteLines={}\n",
    "nConte=\"\"\n",
    "for nLine,line in enumerate(lines):\n",
    "    m=re.search(u\"(^\\d\\d\\d)\",line)\n",
    "    if m:\n",
    "        nConte=m.group(1)\n",
    "        conteLines[nConte]=[]\n",
    "    conteLines[nConte].append(line)\n",
    "# conteLines"
   ]
  },
  {
   "cell_type": "code",
   "execution_count": 23,
   "id": "61e6f78f",
   "metadata": {},
   "outputs": [],
   "source": [
    "triContes=OrderedDict(sorted(conteLines.items()))\n",
    "# triContes"
   ]
  },
  {
   "cell_type": "code",
   "execution_count": 24,
   "id": "d824c5ae",
   "metadata": {},
   "outputs": [],
   "source": [
    "with codecs.open(repName+fName.replace(\".txt\",\"-Ordered.txt\"),\"w\",encoding=\"utf8\") as outFile:\n",
    "    for k in sorted(conteLines.keys()):\n",
    "        for line in conteLines[k]:\n",
    "            outFile.write(line)\n",
    "        outFile.write(\"\\n\")"
   ]
  },
  {
   "cell_type": "code",
   "execution_count": 25,
   "id": "2aa7d223",
   "metadata": {},
   "outputs": [
    {
     "name": "stdout",
     "output_type": "stream",
     "text": [
      "Stored 'conteLines' (dict)\n"
     ]
    }
   ],
   "source": [
    "%store conteLines"
   ]
  },
  {
   "cell_type": "code",
   "execution_count": null,
   "id": "e6b98029",
   "metadata": {},
   "outputs": [],
   "source": []
  }
 ],
 "metadata": {
  "kernelspec": {
   "display_name": "Python 3 (ipykernel)",
   "language": "python",
   "name": "python3"
  },
  "language_info": {
   "codemirror_mode": {
    "name": "ipython",
    "version": 3
   },
   "file_extension": ".py",
   "mimetype": "text/x-python",
   "name": "python",
   "nbconvert_exporter": "python",
   "pygments_lexer": "ipython3",
   "version": "3.9.7"
  }
 },
 "nbformat": 4,
 "nbformat_minor": 5
}
